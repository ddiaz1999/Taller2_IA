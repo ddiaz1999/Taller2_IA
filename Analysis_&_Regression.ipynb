{
  "nbformat": 4,
  "nbformat_minor": 0,
  "metadata": {
    "colab": {
      "name": "Analysis & Regression.ipynb",
      "provenance": [],
      "collapsed_sections": [],
      "include_colab_link": true
    },
    "kernelspec": {
      "name": "python3",
      "display_name": "Python 3"
    }
  },
  "cells": [
    {
      "cell_type": "markdown",
      "metadata": {
        "id": "view-in-github",
        "colab_type": "text"
      },
      "source": [
        "<a href=\"https://colab.research.google.com/github/ddiaz1999/Taller2_IA/blob/main/Analysis_%26_Regression.ipynb\" target=\"_parent\"><img src=\"https://colab.research.google.com/assets/colab-badge.svg\" alt=\"Open In Colab\"/></a>"
      ]
    },
    {
      "cell_type": "markdown",
      "metadata": {
        "id": "BBTosv7IyFZR"
      },
      "source": [
        "# <strong>Boston Crime Prediction</strong>\n",
        "\n",
        "*   **<font color='red'> Problema </font>** \n",
        "##### Predecir la ocurrencia de algún crimen con respecto a la fecha (mes y día) y lugar.\n",
        "\n",
        "\n",
        "*   **<font color='red'> Dataset </font>** \n",
        "##### El *dataset* es tomado de [<font color='purple'><i>**Kaggle**<i></font>](https://www.kaggle.com/), estos datos son de dominio público. [<font color='blue'><i>**Ver dataset**<i></font>](https://www.kaggle.com/AnalyzeBoston/crimes-in-boston)\n",
        "<br>\n",
        "\n",
        "---\n",
        "---\n",
        "\n",
        "#####Desarrollado por: \n",
        "<h6 align=center> ${\\text{Jhon Hader Fernández}}$ <h6>\n",
        "<h6 align=center> ${\\text{Diego Fernando Díaz}}$ <h6>\n",
        "<h6 align=center> ${\\text{Oscar Geovanny Baracaldo}}$ <h6>\n",
        "\n",
        "#####<h6 align=center>{<i>jhon_fernandez, di-diego, obaracaldo</i>}@javeriana.edu.co<h6>\n",
        "#####<h6 align=center>Pontificia Universidad Javeriana<h6>\n",
        "\n",
        "<br>"
      ]
    },
    {
      "cell_type": "markdown",
      "metadata": {
        "id": "AENR2AsRy_lc"
      },
      "source": [
        "## ***1. ENTORNO DE TRABAJO***\n",
        "\n",
        "Para el desarrollo del sistema se requiere de algunos paquetes, módulos y librerías externas."
      ]
    },
    {
      "cell_type": "code",
      "metadata": {
        "id": "eL_TTDXN5IEe"
      },
      "source": [
        "from prettytable import PrettyTable\n",
        "import matplotlib.pyplot as plt\n",
        "import seaborn as sns \n",
        "import pandas as pd\n",
        "import numpy as np\n",
        "import collections\n",
        "import prettytable\n",
        "import time\n",
        "import os\n",
        "\n",
        "from IPython.display import clear_output"
      ],
      "execution_count": 371,
      "outputs": []
    },
    {
      "cell_type": "code",
      "metadata": {
        "id": "6hvWHUzIuSKu"
      },
      "source": [
        "import numpy as np \n",
        "import pandas as pd \n",
        "import matplotlib.pyplot as plt \n",
        "%matplotlib inline \n",
        "import folium \n",
        "from folium.plugins import HeatMap"
      ],
      "execution_count": 372,
      "outputs": []
    },
    {
      "cell_type": "markdown",
      "metadata": {
        "id": "qCGSsE1pzJiA"
      },
      "source": [
        "## ***2. ANÁLISIS DE DATOS***\n",
        "\n",
        "Inicialmente se debe hacer un análisis exploratorio de los datos, que darán información sobre el tipo de datos, la cantidad, los formatos de archivos, etc."
      ]
    },
    {
      "cell_type": "markdown",
      "metadata": {
        "id": "PQB7Mc5VzOPH"
      },
      "source": [
        "### ***2.1.  OBTENER DATASET*** \n",
        "* **<font color='green'><i> 2.1.1. </i></font>** <br>\n",
        " El **dataset**  es cargado desde una carpeta de **<font color='magenta'> Google drive </font>** por ello se debe obtener la ruta de la carpeta, para ello se solicitará un permiso de acceso a **<font color='magenta'> Google drive </font>**\n",
        "\n",
        "* **<font color='green'><i> 2.1.2. </i></font>** <br>\n",
        "Obtener la ruta de los archivos\n",
        "\n",
        "* **<font color='green'><i> 2.1.3. </i></font>** <br>\n",
        "Leer el archivo **<font color='red'> `crime.csv` </font>**"
      ]
    },
    {
      "cell_type": "code",
      "metadata": {
        "id": "xuOufjdL7C86",
        "outputId": "f412e3e6-90c5-4ca1-c90b-aaabc7efa6b7",
        "colab": {
          "base_uri": "https://localhost:8080/",
          "height": 309
        }
      },
      "source": [
        "# 2.1.1\n",
        "path = '/content/drive/My Drive/TALLER 2 IA/dataset'\n",
        "\n",
        "# 2.1.2\n",
        "files = []\n",
        "for dirname, _, filenames in os.walk(path):\n",
        "  for file in filenames:\n",
        "    files.append(os.path.join(path,file))\n",
        "\n",
        "path_files['crime'], path_files['ofense code'] = files[0], files[1]\n",
        "\n",
        "# 2.1.3\n",
        "data = pd.read_csv(path_files['crime'], encoding='latin')\n",
        "data.head()"
      ],
      "execution_count": 373,
      "outputs": [
        {
          "output_type": "execute_result",
          "data": {
            "text/html": [
              "<div>\n",
              "<style scoped>\n",
              "    .dataframe tbody tr th:only-of-type {\n",
              "        vertical-align: middle;\n",
              "    }\n",
              "\n",
              "    .dataframe tbody tr th {\n",
              "        vertical-align: top;\n",
              "    }\n",
              "\n",
              "    .dataframe thead th {\n",
              "        text-align: right;\n",
              "    }\n",
              "</style>\n",
              "<table border=\"1\" class=\"dataframe\">\n",
              "  <thead>\n",
              "    <tr style=\"text-align: right;\">\n",
              "      <th></th>\n",
              "      <th>INCIDENT_NUMBER</th>\n",
              "      <th>OFFENSE_CODE</th>\n",
              "      <th>OFFENSE_CODE_GROUP</th>\n",
              "      <th>OFFENSE_DESCRIPTION</th>\n",
              "      <th>DISTRICT</th>\n",
              "      <th>REPORTING_AREA</th>\n",
              "      <th>SHOOTING</th>\n",
              "      <th>OCCURRED_ON_DATE</th>\n",
              "      <th>YEAR</th>\n",
              "      <th>MONTH</th>\n",
              "      <th>DAY_OF_WEEK</th>\n",
              "      <th>HOUR</th>\n",
              "      <th>UCR_PART</th>\n",
              "      <th>STREET</th>\n",
              "      <th>Lat</th>\n",
              "      <th>Long</th>\n",
              "      <th>Location</th>\n",
              "    </tr>\n",
              "  </thead>\n",
              "  <tbody>\n",
              "    <tr>\n",
              "      <th>0</th>\n",
              "      <td>I182070945</td>\n",
              "      <td>619</td>\n",
              "      <td>Larceny</td>\n",
              "      <td>LARCENY ALL OTHERS</td>\n",
              "      <td>D14</td>\n",
              "      <td>808</td>\n",
              "      <td>NaN</td>\n",
              "      <td>2018-09-02 13:00:00</td>\n",
              "      <td>2018</td>\n",
              "      <td>9</td>\n",
              "      <td>Sunday</td>\n",
              "      <td>13</td>\n",
              "      <td>Part One</td>\n",
              "      <td>LINCOLN ST</td>\n",
              "      <td>42.357791</td>\n",
              "      <td>-71.139371</td>\n",
              "      <td>(42.35779134, -71.13937053)</td>\n",
              "    </tr>\n",
              "    <tr>\n",
              "      <th>1</th>\n",
              "      <td>I182070943</td>\n",
              "      <td>1402</td>\n",
              "      <td>Vandalism</td>\n",
              "      <td>VANDALISM</td>\n",
              "      <td>C11</td>\n",
              "      <td>347</td>\n",
              "      <td>NaN</td>\n",
              "      <td>2018-08-21 00:00:00</td>\n",
              "      <td>2018</td>\n",
              "      <td>8</td>\n",
              "      <td>Tuesday</td>\n",
              "      <td>0</td>\n",
              "      <td>Part Two</td>\n",
              "      <td>HECLA ST</td>\n",
              "      <td>42.306821</td>\n",
              "      <td>-71.060300</td>\n",
              "      <td>(42.30682138, -71.06030035)</td>\n",
              "    </tr>\n",
              "    <tr>\n",
              "      <th>2</th>\n",
              "      <td>I182070941</td>\n",
              "      <td>3410</td>\n",
              "      <td>Towed</td>\n",
              "      <td>TOWED MOTOR VEHICLE</td>\n",
              "      <td>D4</td>\n",
              "      <td>151</td>\n",
              "      <td>NaN</td>\n",
              "      <td>2018-09-03 19:27:00</td>\n",
              "      <td>2018</td>\n",
              "      <td>9</td>\n",
              "      <td>Monday</td>\n",
              "      <td>19</td>\n",
              "      <td>Part Three</td>\n",
              "      <td>CAZENOVE ST</td>\n",
              "      <td>42.346589</td>\n",
              "      <td>-71.072429</td>\n",
              "      <td>(42.34658879, -71.07242943)</td>\n",
              "    </tr>\n",
              "    <tr>\n",
              "      <th>3</th>\n",
              "      <td>I182070940</td>\n",
              "      <td>3114</td>\n",
              "      <td>Investigate Property</td>\n",
              "      <td>INVESTIGATE PROPERTY</td>\n",
              "      <td>D4</td>\n",
              "      <td>272</td>\n",
              "      <td>NaN</td>\n",
              "      <td>2018-09-03 21:16:00</td>\n",
              "      <td>2018</td>\n",
              "      <td>9</td>\n",
              "      <td>Monday</td>\n",
              "      <td>21</td>\n",
              "      <td>Part Three</td>\n",
              "      <td>NEWCOMB ST</td>\n",
              "      <td>42.334182</td>\n",
              "      <td>-71.078664</td>\n",
              "      <td>(42.33418175, -71.07866441)</td>\n",
              "    </tr>\n",
              "    <tr>\n",
              "      <th>4</th>\n",
              "      <td>I182070938</td>\n",
              "      <td>3114</td>\n",
              "      <td>Investigate Property</td>\n",
              "      <td>INVESTIGATE PROPERTY</td>\n",
              "      <td>B3</td>\n",
              "      <td>421</td>\n",
              "      <td>NaN</td>\n",
              "      <td>2018-09-03 21:05:00</td>\n",
              "      <td>2018</td>\n",
              "      <td>9</td>\n",
              "      <td>Monday</td>\n",
              "      <td>21</td>\n",
              "      <td>Part Three</td>\n",
              "      <td>DELHI ST</td>\n",
              "      <td>42.275365</td>\n",
              "      <td>-71.090361</td>\n",
              "      <td>(42.27536542, -71.09036101)</td>\n",
              "    </tr>\n",
              "  </tbody>\n",
              "</table>\n",
              "</div>"
            ],
            "text/plain": [
              "  INCIDENT_NUMBER  OFFENSE_CODE  ...       Long                     Location\n",
              "0      I182070945           619  ... -71.139371  (42.35779134, -71.13937053)\n",
              "1      I182070943          1402  ... -71.060300  (42.30682138, -71.06030035)\n",
              "2      I182070941          3410  ... -71.072429  (42.34658879, -71.07242943)\n",
              "3      I182070940          3114  ... -71.078664  (42.33418175, -71.07866441)\n",
              "4      I182070938          3114  ... -71.090361  (42.27536542, -71.09036101)\n",
              "\n",
              "[5 rows x 17 columns]"
            ]
          },
          "metadata": {
            "tags": []
          },
          "execution_count": 373
        }
      ]
    },
    {
      "cell_type": "markdown",
      "metadata": {
        "id": "sgd3oo-MC0Z4"
      },
      "source": [
        "### ***2.2.  ANÁLISIS PRELIMINAR DE DATOS*** \n",
        "Una vez de cargan los datos se procede a analizar su contenido, tal cual se observa en la tabla 2.\n",
        "\n",
        "Se debe tener en cuenta, que aunque varias características tienen una representación numérica sus datos son categóricos, por ejemplo el ID es representado con un número pero representa un dato particular.\n",
        "\n",
        "Es importante optener cuantas opciones tiene cada característica pues de antemano brinda información valiosa, como por ejemplo, se sabe que en total existe el registro de 67 grupos de crimenes, etc.\n",
        "\n",
        "<br>\n",
        "<h6 align=center><b> ${\\text{Tabla 2. Features analysis}}$ </b><h6>\n",
        "\n",
        "|${\\text{Index}}$|${\\text{Feature}}$|${\\text{Type}}$|${\\text{Options}}$|\n",
        "|:--:|:------------------------:|:--------------------:|:--------------------:|\n",
        "|${\\text{1}}$|${\\text{INCIDENT_NUMBER}}$|${\\text{categorycal}}$|${\\text{282517}}$\n",
        "|${\\text{2}}$|${\\text{OFFESE_CODE}}$|${\\text{categorycal}}$|${\\text{222}}$\n",
        "|${\\text{3}}$|${\\text{OFFENSE_CODE_GROUP}}$|${\\text{categorycal}}$|${\\text{67}}$\n",
        "|${\\text{4}}$|${\\text{OFFENSE_DESCRIPTION}}$|${\\text{categorycal}}$|${\\text{244}}$\n",
        "|${\\text{5}}$|${\\text{DISTRICT}}$|${\\text{categorycal}}$|${\\text{12}}$\n",
        "|${\\text{6}}$|${\\text{REPORTING_AREA}}$|${\\text{categorycal}}$|${\\text{879}}$\n",
        "|${\\text{7}}$|${\\text{SHOOTING}}$|${\\text{categorycal}}$|${\\text{1}}$\n",
        "|${\\text{8}}$|${\\text{OCURRED_ON_DATE}}$|${\\text{categorycal}}$|${\\text{233229}}$\n",
        "|${\\text{9}}$|${\\text{YEAR}}$|${\\text{categorycal}}$|${\\text{4}}$\n",
        "|${\\text{10}}$|${\\text{MONTH}}$|${\\text{categorycal}}$|${\\text{12}}$\n",
        "|${\\text{11}}$|${\\text{DAY_OF_WEEK}}$|${\\text{categorycal}}$|${\\text{7}}$\n",
        "|${\\text{12}}$|${\\text{HOUR}}$|${\\text{categorycal}}$|${\\text{24}}$\n",
        "|${\\text{13}}$|${\\text{UCR_PART}}$|${\\text{categorycal}}$|${\\text{4}}$\n",
        "|${\\text{14}}$|${\\text{STREET}}$|${\\text{categorycal}}$|${\\text{4657}}$\n",
        "|${\\text{15}}$|${\\text{Lat}}$|${\\text{Numerical}}$|${\\text{18178}}$\n",
        "|${\\text{16}}$|${\\text{Long}}$|${\\text{Numerical}}$|${\\text{18178}}$\n",
        "|${\\text{17}}$|${\\text{Location}}$|${\\text{categorycal}}$|${\\text{18194}}$"
      ]
    },
    {
      "cell_type": "code",
      "metadata": {
        "id": "NL2BxZYHbyYi",
        "outputId": "ab015b61-bfb7-42fe-ee15-ee310a48368c",
        "colab": {
          "base_uri": "https://localhost:8080/"
        }
      },
      "source": [
        "print('Shape of dataframe (samples, features):', data.shape, '\\n')\n",
        "\n",
        "columns = data.columns.tolist()\n",
        "chart = PrettyTable([\"Index\", \"Feature\", \"Options\"])\n",
        "for i, characteristic in enumerate(columns):\n",
        "   options = data[characteristic].value_counts()\n",
        "   options = list(options.keys())\n",
        "   chart.add_row([i+1, characteristic, len(options)])\n",
        "\n",
        "print('Feature and its options:')\n",
        "print(chart,  '\\n')"
      ],
      "execution_count": 374,
      "outputs": [
        {
          "output_type": "stream",
          "text": [
            "Shape of dataframe (samples, features): (319073, 17) \n",
            "\n",
            "Feature and its options:\n",
            "+-------+---------------------+---------+\n",
            "| Index |       Feature       | Options |\n",
            "+-------+---------------------+---------+\n",
            "|   1   |   INCIDENT_NUMBER   |  282517 |\n",
            "|   2   |     OFFENSE_CODE    |   222   |\n",
            "|   3   |  OFFENSE_CODE_GROUP |    67   |\n",
            "|   4   | OFFENSE_DESCRIPTION |   244   |\n",
            "|   5   |       DISTRICT      |    12   |\n",
            "|   6   |    REPORTING_AREA   |   879   |\n",
            "|   7   |       SHOOTING      |    1    |\n",
            "|   8   |   OCCURRED_ON_DATE  |  233229 |\n",
            "|   9   |         YEAR        |    4    |\n",
            "|   10  |        MONTH        |    12   |\n",
            "|   11  |     DAY_OF_WEEK     |    7    |\n",
            "|   12  |         HOUR        |    24   |\n",
            "|   13  |       UCR_PART      |    4    |\n",
            "|   14  |        STREET       |   4657  |\n",
            "|   15  |         Lat         |  18178  |\n",
            "|   16  |         Long        |  18178  |\n",
            "|   17  |       Location      |  18194  |\n",
            "+-------+---------------------+---------+ \n",
            "\n"
          ],
          "name": "stdout"
        }
      ]
    },
    {
      "cell_type": "markdown",
      "metadata": {
        "id": "9IQLkQW-LvVb"
      },
      "source": [
        "### ***2.3.  ANÁLISIS DE DATOS PERDIDOS*** \n",
        "\n",
        "* **<font color='green'><i> 2.3.1. </i></font>** <br>\n",
        "Se debe realizar un análisis datos perdidos, pues ayudarán a tener un criterio mas a la hora de seleccionar las características más relevantes.\n",
        "\n",
        "* **<font color='green'><i> 2.3.2. </i></font>** <br>\n",
        "Una vez se identifican los datos perdidos se elimina toda la muestra a la cual pertenece, por tanto, los datos disminuirán en muestras."
      ]
    },
    {
      "cell_type": "code",
      "metadata": {
        "id": "a5HQL1NbLxHa",
        "outputId": "726be5af-e3a3-42e0-a574-9c0749526ec7",
        "colab": {
          "base_uri": "https://localhost:8080/",
          "height": 534
        }
      },
      "source": [
        "# 2.3.1\n",
        "figure = plt.figure(figsize=(13,6))\n",
        "sns.heatmap(data.isnull(),yticklabels='').set(title='Missed data for each feature');\n",
        "\n",
        "# 2.3.2\n",
        "data = data.dropna()\n",
        "print('Shape of dataframe after delete missing data (samples, features):', data.shape, '\\n')"
      ],
      "execution_count": 375,
      "outputs": [
        {
          "output_type": "stream",
          "text": [
            "Shape of dataframe after delete missing data (samples, features): (971, 17) \n",
            "\n"
          ],
          "name": "stdout"
        },
        {
          "output_type": "display_data",
          "data": {
            "image/png": "[encoded data removed]",
            "text/plain": [
              "<Figure size 936x432 with 2 Axes>"
            ]
          },
          "metadata": {
            "tags": [],
            "needs_background": "light"
          }
        }
      ]
    },
    {
      "cell_type": "markdown",
      "metadata": {
        "id": "xryAQppmOKmP"
      },
      "source": [
        "### ***2.4.  DISTRIBUCIÓN DE CRIMENES POR FECHA*** \n",
        "\n",
        "* **<font color='green'><i> 2.4.1. </i></font>** <br>\n",
        "Distribución de crimenes por año\n",
        "\n",
        "* **<font color='green'><i> 2.4.2. </i></font>** <br>\n",
        "Distribución de crimenes por mes\n",
        "\n",
        "* **<font color='green'><i> 2.4.3. </i></font>** <br>\n",
        "Distribución de crimenes por día de la semana\n",
        "\n",
        "* **<font color='green'><i> 2.4.4. </i></font>** <br>\n",
        "Distribución de crimenes por hora"
      ]
    },
    {
      "cell_type": "code",
      "metadata": {
        "id": "m7CqG3BPOJhQ",
        "outputId": "8aad9786-92df-495e-ad20-82253ce82240",
        "colab": {
          "base_uri": "https://localhost:8080/",
          "height": 1000
        }
      },
      "source": [
        "# 2.4.1\n",
        "year = sns.countplot(data=data, x='YEAR').set(title='Amount of crime for each year', ylabel='Crimes');\n",
        "plt.show()\n",
        "\n",
        "# 2.4.2\n",
        "month= sns.countplot(data=data, x='MONTH').set(title='Amount of crime for each month', ylabel='Crimes');\n",
        "plt.show()\n",
        "\n",
        "# 2.4.3\n",
        "day_of_week = sns.countplot(data=data, x='DAY_OF_WEEK').set(title='Amount of crime for each day of week', ylabel='Crimes');\n",
        "plt.show()\n",
        "\n",
        "# 2.4.4\n",
        "day = sns.countplot(data=data, x='HOUR').set(title='Amount of crime for each hour', ylabel='Crimes');\n",
        "plt.show()"
      ],
      "execution_count": 376,
      "outputs": [
        {
          "output_type": "display_data",
          "data": {
            "image/png": "[encoded data removed]",
            "text/plain": [
              "<Figure size 432x288 with 1 Axes>"
            ]
          },
          "metadata": {
            "tags": [],
            "needs_background": "light"
          }
        },
        {
          "output_type": "display_data",
          "data": {
            "image/png": "[encoded data removed]",
            "text/plain": [
              "<Figure size 432x288 with 1 Axes>"
            ]
          },
          "metadata": {
            "tags": [],
            "needs_background": "light"
          }
        },
        {
          "output_type": "display_data",
          "data": {
            "image/png": "[encoded data removed]",
            "text/plain": [
              "<Figure size 432x288 with 1 Axes>"
            ]
          },
          "metadata": {
            "tags": [],
            "needs_background": "light"
          }
        },
        {
          "output_type": "display_data",
          "data": {
            "image/png": "[encoded data removed]",
            "text/plain": [
              "<Figure size 432x288 with 1 Axes>"
            ]
          },
          "metadata": {
            "tags": [],
            "needs_background": "light"
          }
        }
      ]
    },
    {
      "cell_type": "markdown",
      "metadata": {
        "id": "gCNIST-5WTRH"
      },
      "source": [
        "### ***2.5.  DISTRIBUCIÓN DE CRIMENES POR LUGAR*** \n",
        "\n",
        "* **<font color='green'><i> 2.5.1. </i></font>** <br>\n",
        "Distribución de crimenes por calle\n",
        "\n",
        "* **<font color='green'><i> 2.5.2. </i></font>** <br>\n",
        "Distribución de crimenes por area de reporte\n",
        "\n",
        "* **<font color='green'><i> 2.5.3. </i></font>** <br>\n",
        "Distribución de crimenes por distrito"
      ]
    },
    {
      "cell_type": "code",
      "metadata": {
        "id": "sUVYMrBWWnoz",
        "outputId": "b1e3ba4e-e144-4ccd-fcc3-17f84b2b4d1c",
        "colab": {
          "base_uri": "https://localhost:8080/",
          "height": 852
        }
      },
      "source": [
        "# 2.5.1\n",
        "street = sns.countplot(data=data, x='STREET').set(title='Amount of crime for each street', ylabel='Crimes');\n",
        "plt.show()\n",
        "\n",
        "# 2.5.2\n",
        "report_area = sns.countplot(data=data, x='REPORTING_AREA').set(title='Amount of crime for each report area', ylabel='Crimes');\n",
        "plt.show()\n",
        "\n",
        "# 2.5.3\n",
        "district = sns.countplot(data=data, x='DISTRICT').set(title='Amount of crime for each district', ylabel='Crimes');\n",
        "plt.show()"
      ],
      "execution_count": 377,
      "outputs": [
        {
          "output_type": "display_data",
          "data": {
            "image/png": "[encoded data removed]",
            "text/plain": [
              "<Figure size 432x288 with 1 Axes>"
            ]
          },
          "metadata": {
            "tags": [],
            "needs_background": "light"
          }
        },
        {
          "output_type": "display_data",
          "data": {
            "image/png": "[encoded data removed]",
            "text/plain": [
              "<Figure size 432x288 with 1 Axes>"
            ]
          },
          "metadata": {
            "tags": [],
            "needs_background": "light"
          }
        },
        {
          "output_type": "display_data",
          "data": {
            "image/png": "[encoded data removed]",
            "text/plain": [
              "<Figure size 432x288 with 1 Axes>"
            ]
          },
          "metadata": {
            "tags": [],
            "needs_background": "light"
          }
        }
      ]
    },
    {
      "cell_type": "markdown",
      "metadata": {
        "id": "uvOH28vsLPe0"
      },
      "source": [
        "## ***3. PRE-PROCESAMIENTO DE DATOS***\n",
        "Se debe ajustar y acondicionar los datos a los requerimientos del modelo."
      ]
    },
    {
      "cell_type": "markdown",
      "metadata": {
        "id": "rOlnPlGE7FuS"
      },
      "source": [
        "### ***3.1.  RENOMBRAR Y ESCOGER CARACTERÍSTICAS*** \n",
        "\n",
        "* **<font color='green'><i> 3.1.1. </i></font>** <br>\n",
        "Se realiza un renombramiento a las siguientes características:\n",
        "\n",
        "<br>\n",
        "<h6 align=center><b> ${\\text{Tabla 1. Features rename}}$ </b><h6>\n",
        "\n",
        "|    ${\\text{Original name}}$    |    ${\\text{Rename}}$   |\n",
        "|:------------------------------:|:----------------------:|\n",
        "|     ${\\text{OFFENSE_CODE}}$    |     ${\\text{Code}}$    |\n",
        "| ${\\text{OFFENSE_CODE_GROUP}}$  |     ${\\text{Group}}$   |\n",
        "| ${\\text{OFFENSE_DESCRIPTION}}$ | ${\\text{Description}}$ |\n",
        "|   ${\\text{OCURRED_ON_DATE}}$   |     ${\\text{Date}}$    |\n",
        "\n",
        "\n",
        "Los renombramientos se realizan para facilitar su recocimiento a la hora de codificar (realizar la programación).\n",
        "\n",
        "<br>\n",
        "\n",
        "* **<font color='green'><i> 3.1.2. </i></font>** <br>\n",
        "Se eliminan las siguientes caracteristicas pues no se consideran relevantes:\n",
        "\n",
        "  - INCIDENT_NUMBER\n",
        "  - Code\n",
        "  - SHOOTING\n",
        "  - UCR_PART\n",
        "  - Lat\n",
        "  - Long\n",
        "  - Location\n",
        "\n",
        "Lo anterior se justifica de la siguiente manera: La problemática planteada es predecir un **<font color='orange'><i> crimen </i></font>** de acuerdo a una **<font color='red'><i> fecha </i></font>** y **<font color='red'><i> lugar </i></font>**, por ello la característica de interés a predecir es el crimen (**<font color='purple'><i> Group </i></font>**) las demás características ligadas a esta no son de interés (**número de incidente, código, parte de UCR**),\n",
        "para obtener las fechas de toman todas las caracteristicas relacionadas a esta (**año, mes, día, hora, día de la semana**) y para obtener las características de lugar se toman todas las relacionadas a ella (**calle, area de reporte, distrito**) a excepción de la **longitud** y **latitud**, pues se considera que no se necesita ese nivel de precisión en la ubicación de un lugar."
      ]
    },
    {
      "cell_type": "code",
      "metadata": {
        "id": "dsLJSitGdcT9",
        "outputId": "1334b658-2408-4682-ebbc-928c3549150c",
        "colab": {
          "base_uri": "https://localhost:8080/",
          "height": 221
        }
      },
      "source": [
        "# 3.1.1\n",
        "data = data.rename(columns={'OFFENSE_CODE':'Code', 'OFFENSE_CODE_GROUP':'Group', \n",
        "                            'OFFENSE_DESCRIPTION':'Description','OCCURRED_ON_DATE':'Date'})\n",
        "\n",
        "# 3.1.2\n",
        "data.drop(['INCIDENT_NUMBER','Code','SHOOTING','UCR_PART','Lat','Long','Location'],inplace=True,axis=1)\n",
        "print('New dataframe')\n",
        "data.head()"
      ],
      "execution_count": 378,
      "outputs": [
        {
          "output_type": "stream",
          "text": [
            "New dataframe\n"
          ],
          "name": "stdout"
        },
        {
          "output_type": "execute_result",
          "data": {
            "text/html": [
              "<div>\n",
              "<style scoped>\n",
              "    .dataframe tbody tr th:only-of-type {\n",
              "        vertical-align: middle;\n",
              "    }\n",
              "\n",
              "    .dataframe tbody tr th {\n",
              "        vertical-align: top;\n",
              "    }\n",
              "\n",
              "    .dataframe thead th {\n",
              "        text-align: right;\n",
              "    }\n",
              "</style>\n",
              "<table border=\"1\" class=\"dataframe\">\n",
              "  <thead>\n",
              "    <tr style=\"text-align: right;\">\n",
              "      <th></th>\n",
              "      <th>Group</th>\n",
              "      <th>Description</th>\n",
              "      <th>DISTRICT</th>\n",
              "      <th>REPORTING_AREA</th>\n",
              "      <th>Date</th>\n",
              "      <th>YEAR</th>\n",
              "      <th>MONTH</th>\n",
              "      <th>DAY_OF_WEEK</th>\n",
              "      <th>HOUR</th>\n",
              "      <th>STREET</th>\n",
              "    </tr>\n",
              "  </thead>\n",
              "  <tbody>\n",
              "    <tr>\n",
              "      <th>1295</th>\n",
              "      <td>Aggravated Assault</td>\n",
              "      <td>ASSAULT - AGGRAVATED - BATTERY</td>\n",
              "      <td>E18</td>\n",
              "      <td>540</td>\n",
              "      <td>2018-08-29 23:19:00</td>\n",
              "      <td>2018</td>\n",
              "      <td>8</td>\n",
              "      <td>Wednesday</td>\n",
              "      <td>23</td>\n",
              "      <td>HILLIS RD</td>\n",
              "    </tr>\n",
              "    <tr>\n",
              "      <th>1860</th>\n",
              "      <td>Aggravated Assault</td>\n",
              "      <td>ASSAULT - AGGRAVATED - BATTERY</td>\n",
              "      <td>B2</td>\n",
              "      <td>183</td>\n",
              "      <td>2018-08-27 22:56:00</td>\n",
              "      <td>2018</td>\n",
              "      <td>8</td>\n",
              "      <td>Monday</td>\n",
              "      <td>22</td>\n",
              "      <td>DUDLEY ST</td>\n",
              "    </tr>\n",
              "    <tr>\n",
              "      <th>3259</th>\n",
              "      <td>Homicide</td>\n",
              "      <td>MURDER, NON-NEGLIGIENT MANSLAUGHTER</td>\n",
              "      <td>B2</td>\n",
              "      <td>312</td>\n",
              "      <td>2018-08-22 15:00:00</td>\n",
              "      <td>2018</td>\n",
              "      <td>8</td>\n",
              "      <td>Wednesday</td>\n",
              "      <td>15</td>\n",
              "      <td>HOLLANDER ST</td>\n",
              "    </tr>\n",
              "    <tr>\n",
              "      <th>3260</th>\n",
              "      <td>Ballistics</td>\n",
              "      <td>BALLISTICS EVIDENCE/FOUND</td>\n",
              "      <td>B2</td>\n",
              "      <td>312</td>\n",
              "      <td>2018-08-22 15:00:00</td>\n",
              "      <td>2018</td>\n",
              "      <td>8</td>\n",
              "      <td>Wednesday</td>\n",
              "      <td>15</td>\n",
              "      <td>HOLLANDER ST</td>\n",
              "    </tr>\n",
              "    <tr>\n",
              "      <th>4107</th>\n",
              "      <td>Aggravated Assault</td>\n",
              "      <td>ASSAULT - AGGRAVATED - BATTERY</td>\n",
              "      <td>A15</td>\n",
              "      <td>900</td>\n",
              "      <td>2018-08-19 22:46:00</td>\n",
              "      <td>2018</td>\n",
              "      <td>8</td>\n",
              "      <td>Sunday</td>\n",
              "      <td>22</td>\n",
              "      <td>MCNULTY CT</td>\n",
              "    </tr>\n",
              "  </tbody>\n",
              "</table>\n",
              "</div>"
            ],
            "text/plain": [
              "                   Group  ...        STREET\n",
              "1295  Aggravated Assault  ...     HILLIS RD\n",
              "1860  Aggravated Assault  ...     DUDLEY ST\n",
              "3259            Homicide  ...  HOLLANDER ST\n",
              "3260          Ballistics  ...  HOLLANDER ST\n",
              "4107  Aggravated Assault  ...    MCNULTY CT\n",
              "\n",
              "[5 rows x 10 columns]"
            ]
          },
          "metadata": {
            "tags": []
          },
          "execution_count": 378
        }
      ]
    },
    {
      "cell_type": "markdown",
      "metadata": {
        "id": "teoEEEA1XeHP"
      },
      "source": [
        "### ***3.2.  OBTENER SERIES DE TIEMPOS*** \n",
        "Se obtiene la serie de tiempo, para ello, se compacta la fecha (año/mes/día:hora) en el formato **<font color='green'> `datetime` </font>**.\n",
        "Es decir, la caracteristica **<font color='red'> 'Date' </font>** tiene que ser del formato ya mencionado."
      ]
    },
    {
      "cell_type": "code",
      "metadata": {
        "id": "fx3cFMpZeYvH",
        "outputId": "eeb49309-7861-458d-8153-d4b9e52d4ad5",
        "colab": {
          "base_uri": "https://localhost:8080/"
        }
      },
      "source": [
        "data['Date']=pd.to_datetime(data['Date'])\n",
        "data.index = pd.DatetimeIndex(data.Date)\n",
        "data.info() "
      ],
      "execution_count": 379,
      "outputs": [
        {
          "output_type": "stream",
          "text": [
            "<class 'pandas.core.frame.DataFrame'>\n",
            "DatetimeIndex: 971 entries, 2018-08-29 23:19:00 to 2015-06-16 20:41:00\n",
            "Data columns (total 10 columns):\n",
            " #   Column          Non-Null Count  Dtype         \n",
            "---  ------          --------------  -----         \n",
            " 0   Group           971 non-null    object        \n",
            " 1   Description     971 non-null    object        \n",
            " 2   DISTRICT        971 non-null    object        \n",
            " 3   REPORTING_AREA  971 non-null    object        \n",
            " 4   Date            971 non-null    datetime64[ns]\n",
            " 5   YEAR            971 non-null    int64         \n",
            " 6   MONTH           971 non-null    int64         \n",
            " 7   DAY_OF_WEEK     971 non-null    object        \n",
            " 8   HOUR            971 non-null    int64         \n",
            " 9   STREET          971 non-null    object        \n",
            "dtypes: datetime64[ns](1), int64(3), object(6)\n",
            "memory usage: 83.4+ KB\n"
          ],
          "name": "stdout"
        }
      ]
    },
    {
      "cell_type": "markdown",
      "metadata": {
        "id": "JSTWherjYmm0"
      },
      "source": [
        "### ***3.3.  SELECCIONAR CRIMENES*** \n",
        "Como se observa en la **Tabla 2** hay 67 grupos (tipos) de crimenes, pero no todos tienen la misma frecuencia de ocurrencia, por ello, se establece un hiper-parámetro que selecciona el número de crimenes a considerar, donde se jerarquiza la relevancia de un crimen de acuerdo a su ocurrencia."
      ]
    },
    {
      "cell_type": "code",
      "metadata": {
        "id": "wUxidrXffJyr",
        "outputId": "cd3f282c-8aa9-43b5-c233-5f982bb1364f",
        "colab": {
          "base_uri": "https://localhost:8080/",
          "height": 625
        }
      },
      "source": [
        "number_of_crimes_to_considerate = 15\n",
        "\n",
        "order_data = data['Group'].value_counts().iloc[:number_of_crimes_to_considerate].index\n",
        "plt.figure(figsize=(15,10))\n",
        "plt.title('Group of crime to considerate', fontsize=18, color='blue') \n",
        "sns.countplot(y='Group', data=data, order=order_data)\n",
        "plt.ioff()"
      ],
      "execution_count": 380,
      "outputs": [
        {
          "output_type": "display_data",
          "data": {
            "image/png": "[encoded data removed]",
            "text/plain": [
              "<Figure size 1080x720 with 1 Axes>"
            ]
          },
          "metadata": {
            "tags": [],
            "needs_background": "light"
          }
        }
      ]
    },
    {
      "cell_type": "markdown",
      "metadata": {
        "id": "oJhGFEq7a3oh"
      },
      "source": [
        "### ***3.4.  CODIFICACIÓN DE CRIMENES*** \n",
        "\n",
        "* **<font color='green'><i> 3.4.1. </i></font>** <br>\n",
        "Se seleccionan los datos que contengan el en ellos el alguno de los grupos de crimenes seleccionados previamente\n",
        "\n",
        "* **<font color='green'><i> 3.4.2. </i></font>** <br>\n",
        "De acuerdo a los crimenes seleccionados previamente, a estos se les aplica una codificación **<font color='green'> `OneHot` </font>**"
      ]
    },
    {
      "cell_type": "code",
      "metadata": {
        "id": "-UHNNUp3gCVl",
        "outputId": "c7d7c785-4863-41f2-fa31-c5a203dbf881",
        "colab": {
          "base_uri": "https://localhost:8080/",
          "height": 561
        }
      },
      "source": [
        "# 3.4.1\n",
        "crimes = data['Group'].value_counts().iloc[:number_of_crimes_to_considerate]\n",
        "crimes = list(crimes.keys())\n",
        "data = data.loc[data['Group'].isin(crimes)]\n",
        "\n",
        "# 3.4.2\n",
        "data['Group'] = data['Group'].astype('category')\n",
        "data = pd.get_dummies(data=data['Group'])\n",
        "\n",
        "print('There are', len(list(data.columns)), ' crime features: ')\n",
        "print(list(data.columns), '\\n')\n",
        "print('Shape of dataframe (samples, features):', data.shape, '\\n')\n",
        "\n",
        "data.head()"
      ],
      "execution_count": 381,
      "outputs": [
        {
          "output_type": "stream",
          "text": [
            "There are 15  crime features: \n",
            "['Aggravated Assault', 'Ballistics', 'Drug Violation', 'Firearm Violations', 'Homicide', 'Investigate Person', 'Investigate Property', 'Medical Assistance', 'Motor Vehicle Accident Response', 'Other', 'Robbery', 'Search Warrants', 'Simple Assault', 'Vandalism', 'Warrant Arrests'] \n",
            "\n",
            "Shape of dataframe (samples, features): (949, 15) \n",
            "\n"
          ],
          "name": "stdout"
        },
        {
          "output_type": "execute_result",
          "data": {
            "text/html": [
              "<div>\n",
              "<style scoped>\n",
              "    .dataframe tbody tr th:only-of-type {\n",
              "        vertical-align: middle;\n",
              "    }\n",
              "\n",
              "    .dataframe tbody tr th {\n",
              "        vertical-align: top;\n",
              "    }\n",
              "\n",
              "    .dataframe thead th {\n",
              "        text-align: right;\n",
              "    }\n",
              "</style>\n",
              "<table border=\"1\" class=\"dataframe\">\n",
              "  <thead>\n",
              "    <tr style=\"text-align: right;\">\n",
              "      <th></th>\n",
              "      <th>Aggravated Assault</th>\n",
              "      <th>Ballistics</th>\n",
              "      <th>Drug Violation</th>\n",
              "      <th>Firearm Violations</th>\n",
              "      <th>Homicide</th>\n",
              "      <th>Investigate Person</th>\n",
              "      <th>Investigate Property</th>\n",
              "      <th>Medical Assistance</th>\n",
              "      <th>Motor Vehicle Accident Response</th>\n",
              "      <th>Other</th>\n",
              "      <th>Robbery</th>\n",
              "      <th>Search Warrants</th>\n",
              "      <th>Simple Assault</th>\n",
              "      <th>Vandalism</th>\n",
              "      <th>Warrant Arrests</th>\n",
              "    </tr>\n",
              "    <tr>\n",
              "      <th>Date</th>\n",
              "      <th></th>\n",
              "      <th></th>\n",
              "      <th></th>\n",
              "      <th></th>\n",
              "      <th></th>\n",
              "      <th></th>\n",
              "      <th></th>\n",
              "      <th></th>\n",
              "      <th></th>\n",
              "      <th></th>\n",
              "      <th></th>\n",
              "      <th></th>\n",
              "      <th></th>\n",
              "      <th></th>\n",
              "      <th></th>\n",
              "    </tr>\n",
              "  </thead>\n",
              "  <tbody>\n",
              "    <tr>\n",
              "      <th>2018-08-29 23:19:00</th>\n",
              "      <td>1</td>\n",
              "      <td>0</td>\n",
              "      <td>0</td>\n",
              "      <td>0</td>\n",
              "      <td>0</td>\n",
              "      <td>0</td>\n",
              "      <td>0</td>\n",
              "      <td>0</td>\n",
              "      <td>0</td>\n",
              "      <td>0</td>\n",
              "      <td>0</td>\n",
              "      <td>0</td>\n",
              "      <td>0</td>\n",
              "      <td>0</td>\n",
              "      <td>0</td>\n",
              "    </tr>\n",
              "    <tr>\n",
              "      <th>2018-08-27 22:56:00</th>\n",
              "      <td>1</td>\n",
              "      <td>0</td>\n",
              "      <td>0</td>\n",
              "      <td>0</td>\n",
              "      <td>0</td>\n",
              "      <td>0</td>\n",
              "      <td>0</td>\n",
              "      <td>0</td>\n",
              "      <td>0</td>\n",
              "      <td>0</td>\n",
              "      <td>0</td>\n",
              "      <td>0</td>\n",
              "      <td>0</td>\n",
              "      <td>0</td>\n",
              "      <td>0</td>\n",
              "    </tr>\n",
              "    <tr>\n",
              "      <th>2018-08-22 15:00:00</th>\n",
              "      <td>0</td>\n",
              "      <td>0</td>\n",
              "      <td>0</td>\n",
              "      <td>0</td>\n",
              "      <td>1</td>\n",
              "      <td>0</td>\n",
              "      <td>0</td>\n",
              "      <td>0</td>\n",
              "      <td>0</td>\n",
              "      <td>0</td>\n",
              "      <td>0</td>\n",
              "      <td>0</td>\n",
              "      <td>0</td>\n",
              "      <td>0</td>\n",
              "      <td>0</td>\n",
              "    </tr>\n",
              "    <tr>\n",
              "      <th>2018-08-22 15:00:00</th>\n",
              "      <td>0</td>\n",
              "      <td>1</td>\n",
              "      <td>0</td>\n",
              "      <td>0</td>\n",
              "      <td>0</td>\n",
              "      <td>0</td>\n",
              "      <td>0</td>\n",
              "      <td>0</td>\n",
              "      <td>0</td>\n",
              "      <td>0</td>\n",
              "      <td>0</td>\n",
              "      <td>0</td>\n",
              "      <td>0</td>\n",
              "      <td>0</td>\n",
              "      <td>0</td>\n",
              "    </tr>\n",
              "    <tr>\n",
              "      <th>2018-08-19 22:46:00</th>\n",
              "      <td>1</td>\n",
              "      <td>0</td>\n",
              "      <td>0</td>\n",
              "      <td>0</td>\n",
              "      <td>0</td>\n",
              "      <td>0</td>\n",
              "      <td>0</td>\n",
              "      <td>0</td>\n",
              "      <td>0</td>\n",
              "      <td>0</td>\n",
              "      <td>0</td>\n",
              "      <td>0</td>\n",
              "      <td>0</td>\n",
              "      <td>0</td>\n",
              "      <td>0</td>\n",
              "    </tr>\n",
              "  </tbody>\n",
              "</table>\n",
              "</div>"
            ],
            "text/plain": [
              "                     Aggravated Assault  Ballistics  ...  Vandalism  Warrant Arrests\n",
              "Date                                                 ...                            \n",
              "2018-08-29 23:19:00                   1           0  ...          0                0\n",
              "2018-08-27 22:56:00                   1           0  ...          0                0\n",
              "2018-08-22 15:00:00                   0           0  ...          0                0\n",
              "2018-08-22 15:00:00                   0           1  ...          0                0\n",
              "2018-08-19 22:46:00                   1           0  ...          0                0\n",
              "\n",
              "[5 rows x 15 columns]"
            ]
          },
          "metadata": {
            "tags": []
          },
          "execution_count": 381
        }
      ]
    },
    {
      "cell_type": "markdown",
      "metadata": {
        "id": "IoDIDCWHcFn5"
      },
      "source": [
        "### ***3.5.  AGRUPAR GRUPOS DE CRIMENES POR FECHAS*** \n",
        "Una vez se tienen los datos se agrupan por fecha de acuerdo a una periodicidad (hora, día, mes, año), por ejemplo: Si se tiene que un crimen ocurrió dos veces en el mismo mes estos se pueden agrupar. Para ello existe un hiper-parámetro que controla la periodicidad de agrupación."
      ]
    },
    {
      "cell_type": "code",
      "metadata": {
        "id": "HbBa1nY8_v2L",
        "outputId": "35cdc087-6e55-42ae-8b19-aa001a6b1088",
        "colab": {
          "base_uri": "https://localhost:8080/",
          "height": 425
        }
      },
      "source": [
        "perodicity = 'M'\n",
        "\n",
        "data = data.resample(perodicity).sum()\n",
        "print('Shape of dataframe (samples, features):', data.shape, '\\n')\n",
        "data.head()"
      ],
      "execution_count": 382,
      "outputs": [
        {
          "output_type": "stream",
          "text": [
            "Shape of dataframe (samples, features): (39, 15) \n",
            "\n"
          ],
          "name": "stdout"
        },
        {
          "output_type": "execute_result",
          "data": {
            "text/html": [
              "<div>\n",
              "<style scoped>\n",
              "    .dataframe tbody tr th:only-of-type {\n",
              "        vertical-align: middle;\n",
              "    }\n",
              "\n",
              "    .dataframe tbody tr th {\n",
              "        vertical-align: top;\n",
              "    }\n",
              "\n",
              "    .dataframe thead th {\n",
              "        text-align: right;\n",
              "    }\n",
              "</style>\n",
              "<table border=\"1\" class=\"dataframe\">\n",
              "  <thead>\n",
              "    <tr style=\"text-align: right;\">\n",
              "      <th></th>\n",
              "      <th>Aggravated Assault</th>\n",
              "      <th>Ballistics</th>\n",
              "      <th>Drug Violation</th>\n",
              "      <th>Firearm Violations</th>\n",
              "      <th>Homicide</th>\n",
              "      <th>Investigate Person</th>\n",
              "      <th>Investigate Property</th>\n",
              "      <th>Medical Assistance</th>\n",
              "      <th>Motor Vehicle Accident Response</th>\n",
              "      <th>Other</th>\n",
              "      <th>Robbery</th>\n",
              "      <th>Search Warrants</th>\n",
              "      <th>Simple Assault</th>\n",
              "      <th>Vandalism</th>\n",
              "      <th>Warrant Arrests</th>\n",
              "    </tr>\n",
              "    <tr>\n",
              "      <th>Date</th>\n",
              "      <th></th>\n",
              "      <th></th>\n",
              "      <th></th>\n",
              "      <th></th>\n",
              "      <th></th>\n",
              "      <th></th>\n",
              "      <th></th>\n",
              "      <th></th>\n",
              "      <th></th>\n",
              "      <th></th>\n",
              "      <th></th>\n",
              "      <th></th>\n",
              "      <th></th>\n",
              "      <th></th>\n",
              "      <th></th>\n",
              "    </tr>\n",
              "  </thead>\n",
              "  <tbody>\n",
              "    <tr>\n",
              "      <th>2015-06-30</th>\n",
              "      <td>7</td>\n",
              "      <td>0</td>\n",
              "      <td>0</td>\n",
              "      <td>2</td>\n",
              "      <td>0</td>\n",
              "      <td>0</td>\n",
              "      <td>0</td>\n",
              "      <td>0</td>\n",
              "      <td>0</td>\n",
              "      <td>1</td>\n",
              "      <td>0</td>\n",
              "      <td>0</td>\n",
              "      <td>0</td>\n",
              "      <td>1</td>\n",
              "      <td>1</td>\n",
              "    </tr>\n",
              "    <tr>\n",
              "      <th>2015-07-31</th>\n",
              "      <td>27</td>\n",
              "      <td>0</td>\n",
              "      <td>0</td>\n",
              "      <td>1</td>\n",
              "      <td>4</td>\n",
              "      <td>0</td>\n",
              "      <td>0</td>\n",
              "      <td>2</td>\n",
              "      <td>0</td>\n",
              "      <td>0</td>\n",
              "      <td>1</td>\n",
              "      <td>3</td>\n",
              "      <td>0</td>\n",
              "      <td>0</td>\n",
              "      <td>0</td>\n",
              "    </tr>\n",
              "    <tr>\n",
              "      <th>2015-08-31</th>\n",
              "      <td>21</td>\n",
              "      <td>2</td>\n",
              "      <td>1</td>\n",
              "      <td>1</td>\n",
              "      <td>3</td>\n",
              "      <td>0</td>\n",
              "      <td>1</td>\n",
              "      <td>2</td>\n",
              "      <td>0</td>\n",
              "      <td>0</td>\n",
              "      <td>0</td>\n",
              "      <td>0</td>\n",
              "      <td>1</td>\n",
              "      <td>0</td>\n",
              "      <td>3</td>\n",
              "    </tr>\n",
              "    <tr>\n",
              "      <th>2015-09-30</th>\n",
              "      <td>9</td>\n",
              "      <td>1</td>\n",
              "      <td>1</td>\n",
              "      <td>1</td>\n",
              "      <td>4</td>\n",
              "      <td>0</td>\n",
              "      <td>0</td>\n",
              "      <td>0</td>\n",
              "      <td>0</td>\n",
              "      <td>1</td>\n",
              "      <td>0</td>\n",
              "      <td>2</td>\n",
              "      <td>0</td>\n",
              "      <td>1</td>\n",
              "      <td>1</td>\n",
              "    </tr>\n",
              "    <tr>\n",
              "      <th>2015-10-31</th>\n",
              "      <td>7</td>\n",
              "      <td>1</td>\n",
              "      <td>0</td>\n",
              "      <td>1</td>\n",
              "      <td>2</td>\n",
              "      <td>0</td>\n",
              "      <td>0</td>\n",
              "      <td>0</td>\n",
              "      <td>0</td>\n",
              "      <td>0</td>\n",
              "      <td>0</td>\n",
              "      <td>2</td>\n",
              "      <td>0</td>\n",
              "      <td>0</td>\n",
              "      <td>2</td>\n",
              "    </tr>\n",
              "  </tbody>\n",
              "</table>\n",
              "</div>"
            ],
            "text/plain": [
              "            Aggravated Assault  Ballistics  ...  Vandalism  Warrant Arrests\n",
              "Date                                        ...                            \n",
              "2015-06-30                   7           0  ...          1                1\n",
              "2015-07-31                  27           0  ...          0                0\n",
              "2015-08-31                  21           2  ...          0                3\n",
              "2015-09-30                   9           1  ...          1                1\n",
              "2015-10-31                   7           1  ...          0                2\n",
              "\n",
              "[5 rows x 15 columns]"
            ]
          },
          "metadata": {
            "tags": []
          },
          "execution_count": 382
        }
      ]
    },
    {
      "cell_type": "markdown",
      "metadata": {
        "id": "4MoTR50fc3qB"
      },
      "source": [
        "### ***3.6.  OBTENER CONJUNTO DE ENTRENAMIENTO Y PRUEBAS*** \n",
        "\n",
        "Como la predicción es de un crimen en función de una fecha, la única característica es la fecha y el resultado (etiquetas) es el grupo de crimen. Por ello, se decide separar el conjunto de datos en uno de entrenamiento y otro de pruebas, si bien es cierto que es un problema de predicción (regresión) se debe tener unos datos para observar el desempeño del modelo. Para ello existe un hiper-parámetro que controla el porcentaje de partición.\n",
        "\n",
        "* **<font color='green'><i> 3.6.1. </i></font>** <br>\n",
        "Obtener las características\n",
        "\n",
        "* **<font color='green'><i> 3.6.1. </i></font>** <br>\n",
        "Obtener las resultados\n",
        "\n"
      ]
    },
    {
      "cell_type": "code",
      "metadata": {
        "id": "ZTYGr6XFL_ZA",
        "outputId": "f056d1c8-0fc0-4099-e022-98d0cd8efcd8",
        "colab": {
          "base_uri": "https://localhost:8080/"
        }
      },
      "source": [
        "percentage_of_train_data = 0.85\n",
        "\n",
        "len_train = int(data.shape[0] * percentage_of_train_data)\n",
        "\n",
        "# 3.6.1\n",
        "X = np.array(data.index)\n",
        "X = X[:,np.newaxis]\n",
        "X_train = X[0:len_train]\n",
        "X_test = X[len_train:len(X)]\n",
        "\n",
        "# 3.6.2\n",
        "Y_train = []\n",
        "y_test = []\n",
        "\n",
        "for crime in crimes:\n",
        "  y = data[crime]\n",
        "  Y_train.append(y[0:len_train])\n",
        "  y_test.append(y[len_train:len(y)])\n",
        "\n",
        "Y_train = np.array(Y_train)\n",
        "y_test = np.array(y_test)\n",
        "\n",
        "print('Dataset set amount')\n",
        "chart = PrettyTable([\"Data\", \"Shape (samples, features)\", 'Percentage (%)'], )\n",
        "chart.add_row(['Train', X_train.shape, percentage_of_train_data*100])\n",
        "chart.add_row(['Test', X_test.shape, 100-percentage_of_train_data*100])\n",
        "chart.add_row(['------------', '-------------------------','---------------'])\n",
        "chart.add_row(['Total', X.shape, 100])\n",
        "print(chart,  '\\n')"
      ],
      "execution_count": 383,
      "outputs": [
        {
          "output_type": "stream",
          "text": [
            "Dataset set amount\n",
            "+--------------+---------------------------+-----------------+\n",
            "|     Data     | Shape (samples, features) |  Percentage (%) |\n",
            "+--------------+---------------------------+-----------------+\n",
            "|    Train     |          (33, 1)          |       85.0      |\n",
            "|     Test     |           (6, 1)          |       15.0      |\n",
            "| ------------ | ------------------------- | --------------- |\n",
            "|    Total     |          (39, 1)          |       100       |\n",
            "+--------------+---------------------------+-----------------+ \n",
            "\n"
          ],
          "name": "stdout"
        }
      ]
    },
    {
      "cell_type": "markdown",
      "metadata": {
        "id": "p0Q5xLV6eXrY"
      },
      "source": [
        "## ***4. MODELO***\n",
        "Se utiliza el modelo de máquina de soporte vectorial (SVM) en modo de regresión (predicción).\n",
        "\n"
      ]
    },
    {
      "cell_type": "markdown",
      "metadata": {
        "id": "7MP_ClPKetxm"
      },
      "source": [
        "### ***4.1.  ENTRENAMIENTO*** \n",
        "\n",
        "El planteamiento de la solución consiste en realizar ***n*** predictores, donde ***n*** es la cantidad de grupos de crimenes seleccionados, es decir, se realiza un predictor para cada grupo de crimen, esto nos dará la cantidad de crimenes (para cada grupo de crimenes) que ocurrirán para una cierta fecha.\n",
        "\n",
        "* **<font color='green'><i> 4.1.1. </i></font>** <br>\n",
        "Estandarizar los datos a un rango entre **`[0, 1]`**\n",
        "\n",
        "* **<font color='green'><i> 4.2.1. </i></font>** <br>\n",
        "Entrenar cada predictor para su correspondiente grupo de crimen"
      ]
    },
    {
      "cell_type": "code",
      "metadata": {
        "id": "DSnQQHMzOyOF"
      },
      "source": [
        "from sklearn.preprocessing import MinMaxScaler\n",
        "from sklearn.pipeline import make_pipeline\n",
        "from sklearn.svm import SVR\n",
        "\n",
        "def train(X_train, Y_train):\n",
        "  regr = {}\n",
        "  for idx, crime in enumerate(Y_train):\n",
        "    # 4.1.1\n",
        "    regr[crimes[idx]] = make_pipeline(MinMaxScaler(), SVR())\n",
        "    # 4.1.2\n",
        "    regr[crimes[idx]].fit(X_train, crime)\n",
        "  return regr\n",
        "\n",
        "# Predictor for each group of crime\n",
        "predictors = train(X_train, Y_train)"
      ],
      "execution_count": 384,
      "outputs": []
    },
    {
      "cell_type": "markdown",
      "metadata": {
        "id": "Naa44gfjgHNf"
      },
      "source": [
        "### ***4.2.  EVALUCIÓN DE MODELO*** \n",
        "\n",
        "Como se realizó una regresión la metrica de desempeño escogida es $R^{2}$.\n",
        "El proceso que se realizó, es hallar esta metrica para cada predictor y posteriormente realizar un promedio sobre las mismas."
      ]
    },
    {
      "cell_type": "code",
      "metadata": {
        "id": "4kWi1_wjTigX",
        "outputId": "abaede8b-752e-4e17-a14a-4846144ae2d4",
        "colab": {
          "base_uri": "https://localhost:8080/"
        }
      },
      "source": [
        "def evaluate_model(estimators, X_test, y_test):\n",
        "  scores = []\n",
        "  for idx in range(len(estimators)):\n",
        "    scores.append(estimators[crimes[idx]].score(X_test, y_test[idx]))\n",
        "  global_score = sum(scores)/len(scores)\n",
        "  print('Score [R\\u00b2] is: ', global_score)\n",
        "\n",
        "evaluate_model(predictors, X_test, y_test)"
      ],
      "execution_count": 385,
      "outputs": [
        {
          "output_type": "stream",
          "text": [
            "Score [R²] is:  -0.5915169983683444\n"
          ],
          "name": "stdout"
        }
      ]
    },
    {
      "cell_type": "markdown",
      "metadata": {
        "id": "rOzDgH_9hFut"
      },
      "source": [
        "### ***4.3.  PREDICCIÓN*** \n",
        "\n",
        "A continuación se realiza una predicción para ciertas fechas."
      ]
    },
    {
      "cell_type": "code",
      "metadata": {
        "id": "0Z28YWD4f_wK",
        "outputId": "742fcae9-3a7e-4d90-d9ee-0ca43cf4bab5",
        "colab": {
          "base_uri": "https://localhost:8080/",
          "height": 408
        }
      },
      "source": [
        "def predict_crime(estimators, X_test, y_test):\n",
        "  Y_predict = []\n",
        "  for idx, predictors in enumerate(estimators):\n",
        "    Y_predict.append(estimators[crimes[idx]].predict(X_test))\n",
        "  Y_predict = np.array(Y_predict).T\n",
        "\n",
        "  predict_df = show_predict(X_test, Y_predict)\n",
        "  return predict_df\n",
        "\n",
        "def show_predict(X, Y):\n",
        "  predict_frame = collections.defaultdict(list)\n",
        "  for i in range(len(X)):\n",
        "    predict_frame['Date'].append(X[i][0])\n",
        "    for j, crime in enumerate(crimes):\n",
        "      predict_frame[crime].append(round(Y[i][j], 2))\n",
        "  predict_frame = pd.DataFrame(predict_frame)\n",
        "  predict_frame['Date'] = pd.to_datetime(predict_frame['Date'])\n",
        "  predict_frame.index = pd.DatetimeIndex(predict_frame.Date)\n",
        "  predict_frame.drop(['Date'], inplace=True, axis=1)\n",
        "  return predict_frame\n",
        "\n",
        "\n",
        "print('Crimes predicted to date:')\n",
        "m = predict_crime(predictors, X_test, y_test)\n",
        "m.head()"
      ],
      "execution_count": 386,
      "outputs": [
        {
          "output_type": "stream",
          "text": [
            "Crimes predicted to date:\n"
          ],
          "name": "stdout"
        },
        {
          "output_type": "execute_result",
          "data": {
            "text/html": [
              "<div>\n",
              "<style scoped>\n",
              "    .dataframe tbody tr th:only-of-type {\n",
              "        vertical-align: middle;\n",
              "    }\n",
              "\n",
              "    .dataframe tbody tr th {\n",
              "        vertical-align: top;\n",
              "    }\n",
              "\n",
              "    .dataframe thead th {\n",
              "        text-align: right;\n",
              "    }\n",
              "</style>\n",
              "<table border=\"1\" class=\"dataframe\">\n",
              "  <thead>\n",
              "    <tr style=\"text-align: right;\">\n",
              "      <th></th>\n",
              "      <th>Aggravated Assault</th>\n",
              "      <th>Homicide</th>\n",
              "      <th>Warrant Arrests</th>\n",
              "      <th>Firearm Violations</th>\n",
              "      <th>Ballistics</th>\n",
              "      <th>Search Warrants</th>\n",
              "      <th>Drug Violation</th>\n",
              "      <th>Medical Assistance</th>\n",
              "      <th>Robbery</th>\n",
              "      <th>Vandalism</th>\n",
              "      <th>Other</th>\n",
              "      <th>Investigate Property</th>\n",
              "      <th>Investigate Person</th>\n",
              "      <th>Motor Vehicle Accident Response</th>\n",
              "      <th>Simple Assault</th>\n",
              "    </tr>\n",
              "    <tr>\n",
              "      <th>Date</th>\n",
              "      <th></th>\n",
              "      <th></th>\n",
              "      <th></th>\n",
              "      <th></th>\n",
              "      <th></th>\n",
              "      <th></th>\n",
              "      <th></th>\n",
              "      <th></th>\n",
              "      <th></th>\n",
              "      <th></th>\n",
              "      <th></th>\n",
              "      <th></th>\n",
              "      <th></th>\n",
              "      <th></th>\n",
              "      <th></th>\n",
              "    </tr>\n",
              "  </thead>\n",
              "  <tbody>\n",
              "    <tr>\n",
              "      <th>2018-03-31</th>\n",
              "      <td>11.51</td>\n",
              "      <td>3.01</td>\n",
              "      <td>1.92</td>\n",
              "      <td>1.91</td>\n",
              "      <td>0.95</td>\n",
              "      <td>1.41</td>\n",
              "      <td>0.37</td>\n",
              "      <td>0.09</td>\n",
              "      <td>0.08</td>\n",
              "      <td>0.11</td>\n",
              "      <td>0.70</td>\n",
              "      <td>0.1</td>\n",
              "      <td>0.10</td>\n",
              "      <td>0.06</td>\n",
              "      <td>0.10</td>\n",
              "    </tr>\n",
              "    <tr>\n",
              "      <th>2018-04-30</th>\n",
              "      <td>11.34</td>\n",
              "      <td>2.93</td>\n",
              "      <td>1.92</td>\n",
              "      <td>1.92</td>\n",
              "      <td>0.85</td>\n",
              "      <td>1.41</td>\n",
              "      <td>0.32</td>\n",
              "      <td>0.08</td>\n",
              "      <td>-0.01</td>\n",
              "      <td>0.11</td>\n",
              "      <td>0.71</td>\n",
              "      <td>0.1</td>\n",
              "      <td>0.09</td>\n",
              "      <td>0.04</td>\n",
              "      <td>0.10</td>\n",
              "    </tr>\n",
              "    <tr>\n",
              "      <th>2018-05-31</th>\n",
              "      <td>11.20</td>\n",
              "      <td>2.87</td>\n",
              "      <td>1.91</td>\n",
              "      <td>1.91</td>\n",
              "      <td>0.76</td>\n",
              "      <td>1.37</td>\n",
              "      <td>0.28</td>\n",
              "      <td>0.06</td>\n",
              "      <td>-0.09</td>\n",
              "      <td>0.12</td>\n",
              "      <td>0.70</td>\n",
              "      <td>0.1</td>\n",
              "      <td>0.09</td>\n",
              "      <td>0.03</td>\n",
              "      <td>0.10</td>\n",
              "    </tr>\n",
              "    <tr>\n",
              "      <th>2018-06-30</th>\n",
              "      <td>11.10</td>\n",
              "      <td>2.84</td>\n",
              "      <td>1.90</td>\n",
              "      <td>1.89</td>\n",
              "      <td>0.68</td>\n",
              "      <td>1.32</td>\n",
              "      <td>0.25</td>\n",
              "      <td>0.06</td>\n",
              "      <td>-0.14</td>\n",
              "      <td>0.12</td>\n",
              "      <td>0.68</td>\n",
              "      <td>0.1</td>\n",
              "      <td>0.09</td>\n",
              "      <td>0.01</td>\n",
              "      <td>0.09</td>\n",
              "    </tr>\n",
              "    <tr>\n",
              "      <th>2018-07-31</th>\n",
              "      <td>11.03</td>\n",
              "      <td>2.81</td>\n",
              "      <td>1.87</td>\n",
              "      <td>1.87</td>\n",
              "      <td>0.60</td>\n",
              "      <td>1.25</td>\n",
              "      <td>0.24</td>\n",
              "      <td>0.05</td>\n",
              "      <td>-0.17</td>\n",
              "      <td>0.12</td>\n",
              "      <td>0.65</td>\n",
              "      <td>0.1</td>\n",
              "      <td>0.08</td>\n",
              "      <td>0.00</td>\n",
              "      <td>0.09</td>\n",
              "    </tr>\n",
              "  </tbody>\n",
              "</table>\n",
              "</div>"
            ],
            "text/plain": [
              "            Aggravated Assault  ...  Simple Assault\n",
              "Date                            ...                \n",
              "2018-03-31               11.51  ...            0.10\n",
              "2018-04-30               11.34  ...            0.10\n",
              "2018-05-31               11.20  ...            0.10\n",
              "2018-06-30               11.10  ...            0.09\n",
              "2018-07-31               11.03  ...            0.09\n",
              "\n",
              "[5 rows x 15 columns]"
            ]
          },
          "metadata": {
            "tags": []
          },
          "execution_count": 386
        }
      ]
    },
    {
      "cell_type": "markdown",
      "metadata": {
        "id": "z6R3JeCVhVuG"
      },
      "source": [
        "### ***4.4.  RESULTADOS REALES DE LA PREDICCIÓN PREVIA***\n",
        "\n",
        "A continuación se muestran los resultados reales para la predicción realizada previamente."
      ]
    },
    {
      "cell_type": "code",
      "metadata": {
        "id": "bz_3IpPXOQnQ",
        "outputId": "7e5dfcfa-27a7-4312-f727-ee6b0cc29eb7",
        "colab": {
          "base_uri": "https://localhost:8080/",
          "height": 408
        }
      },
      "source": [
        "print('Real crime result:')\n",
        "n = show_predict(X_test, y_test.T)\n",
        "n.head()"
      ],
      "execution_count": 387,
      "outputs": [
        {
          "output_type": "stream",
          "text": [
            "Real crime result:\n"
          ],
          "name": "stdout"
        },
        {
          "output_type": "execute_result",
          "data": {
            "text/html": [
              "<div>\n",
              "<style scoped>\n",
              "    .dataframe tbody tr th:only-of-type {\n",
              "        vertical-align: middle;\n",
              "    }\n",
              "\n",
              "    .dataframe tbody tr th {\n",
              "        vertical-align: top;\n",
              "    }\n",
              "\n",
              "    .dataframe thead th {\n",
              "        text-align: right;\n",
              "    }\n",
              "</style>\n",
              "<table border=\"1\" class=\"dataframe\">\n",
              "  <thead>\n",
              "    <tr style=\"text-align: right;\">\n",
              "      <th></th>\n",
              "      <th>Aggravated Assault</th>\n",
              "      <th>Homicide</th>\n",
              "      <th>Warrant Arrests</th>\n",
              "      <th>Firearm Violations</th>\n",
              "      <th>Ballistics</th>\n",
              "      <th>Search Warrants</th>\n",
              "      <th>Drug Violation</th>\n",
              "      <th>Medical Assistance</th>\n",
              "      <th>Robbery</th>\n",
              "      <th>Vandalism</th>\n",
              "      <th>Other</th>\n",
              "      <th>Investigate Property</th>\n",
              "      <th>Investigate Person</th>\n",
              "      <th>Motor Vehicle Accident Response</th>\n",
              "      <th>Simple Assault</th>\n",
              "    </tr>\n",
              "    <tr>\n",
              "      <th>Date</th>\n",
              "      <th></th>\n",
              "      <th></th>\n",
              "      <th></th>\n",
              "      <th></th>\n",
              "      <th></th>\n",
              "      <th></th>\n",
              "      <th></th>\n",
              "      <th></th>\n",
              "      <th></th>\n",
              "      <th></th>\n",
              "      <th></th>\n",
              "      <th></th>\n",
              "      <th></th>\n",
              "      <th></th>\n",
              "      <th></th>\n",
              "    </tr>\n",
              "  </thead>\n",
              "  <tbody>\n",
              "    <tr>\n",
              "      <th>2018-03-31</th>\n",
              "      <td>4</td>\n",
              "      <td>1</td>\n",
              "      <td>1</td>\n",
              "      <td>0</td>\n",
              "      <td>1</td>\n",
              "      <td>0</td>\n",
              "      <td>0</td>\n",
              "      <td>0</td>\n",
              "      <td>1</td>\n",
              "      <td>0</td>\n",
              "      <td>0</td>\n",
              "      <td>0</td>\n",
              "      <td>0</td>\n",
              "      <td>0</td>\n",
              "      <td>0</td>\n",
              "    </tr>\n",
              "    <tr>\n",
              "      <th>2018-04-30</th>\n",
              "      <td>7</td>\n",
              "      <td>3</td>\n",
              "      <td>2</td>\n",
              "      <td>3</td>\n",
              "      <td>1</td>\n",
              "      <td>1</td>\n",
              "      <td>0</td>\n",
              "      <td>1</td>\n",
              "      <td>0</td>\n",
              "      <td>1</td>\n",
              "      <td>0</td>\n",
              "      <td>0</td>\n",
              "      <td>0</td>\n",
              "      <td>0</td>\n",
              "      <td>0</td>\n",
              "    </tr>\n",
              "    <tr>\n",
              "      <th>2018-05-31</th>\n",
              "      <td>11</td>\n",
              "      <td>2</td>\n",
              "      <td>3</td>\n",
              "      <td>5</td>\n",
              "      <td>2</td>\n",
              "      <td>0</td>\n",
              "      <td>0</td>\n",
              "      <td>1</td>\n",
              "      <td>1</td>\n",
              "      <td>2</td>\n",
              "      <td>0</td>\n",
              "      <td>0</td>\n",
              "      <td>0</td>\n",
              "      <td>0</td>\n",
              "      <td>0</td>\n",
              "    </tr>\n",
              "    <tr>\n",
              "      <th>2018-06-30</th>\n",
              "      <td>13</td>\n",
              "      <td>3</td>\n",
              "      <td>2</td>\n",
              "      <td>7</td>\n",
              "      <td>1</td>\n",
              "      <td>3</td>\n",
              "      <td>0</td>\n",
              "      <td>1</td>\n",
              "      <td>0</td>\n",
              "      <td>1</td>\n",
              "      <td>2</td>\n",
              "      <td>1</td>\n",
              "      <td>0</td>\n",
              "      <td>0</td>\n",
              "      <td>0</td>\n",
              "    </tr>\n",
              "    <tr>\n",
              "      <th>2018-07-31</th>\n",
              "      <td>12</td>\n",
              "      <td>5</td>\n",
              "      <td>3</td>\n",
              "      <td>1</td>\n",
              "      <td>1</td>\n",
              "      <td>0</td>\n",
              "      <td>2</td>\n",
              "      <td>1</td>\n",
              "      <td>0</td>\n",
              "      <td>0</td>\n",
              "      <td>0</td>\n",
              "      <td>0</td>\n",
              "      <td>1</td>\n",
              "      <td>0</td>\n",
              "      <td>0</td>\n",
              "    </tr>\n",
              "  </tbody>\n",
              "</table>\n",
              "</div>"
            ],
            "text/plain": [
              "            Aggravated Assault  ...  Simple Assault\n",
              "Date                            ...                \n",
              "2018-03-31                   4  ...               0\n",
              "2018-04-30                   7  ...               0\n",
              "2018-05-31                  11  ...               0\n",
              "2018-06-30                  13  ...               0\n",
              "2018-07-31                  12  ...               0\n",
              "\n",
              "[5 rows x 15 columns]"
            ]
          },
          "metadata": {
            "tags": []
          },
          "execution_count": 387
        }
      ]
    },
    {
      "cell_type": "markdown",
      "metadata": {
        "id": "PITaln9MhnX2"
      },
      "source": [
        "## ***5. RESULTADOS Y CONCLUSIONES***\n",
        "Al observar el valor del $R^{2}$ es negativo, lo cual indica que el modelo seleccionado no se ajusta a la función que describe estos datos, por ello es recomendable buscar otra alternativa de modelo o complementar con algún tipo de predicción (clasificación). Esto último fue lo que se optó hacer.\n",
        "Adicionalmente, al ver el pobre desempeño del predictor de crimenes para las fechas se optó por realizar el predictor de crimenes para lugares, y volcar toda la energía y tiempo en realizar una clasificación.\n",
        "\n",
        "Lo anterior se puede observar en el siguiente notebook [<font color='purple'><i>**Classification**<i></font>](https://github.com/ddiaz1999/Taller2_IA)\n"
      ]
    }
  ]
}